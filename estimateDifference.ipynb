{
 "cells": [
  {
   "cell_type": "markdown",
   "metadata": {},
   "source": [
    "# Derivation"
   ]
  },
  {
   "cell_type": "markdown",
   "metadata": {},
   "source": [
    "Discretely many importance weights and rewards; a logging policy $h$; two policies whose value difference is being estimated; maximum likelihood of sample $\\{ (u_i, w_i, r_i) \\}$ drawn from $h$ is $$\n",
    "\\begin{alignat}{2}\n",
    "&\\!\\max_{Q \\succeq 0} &\\qquad& \\sum_n \\log(Q_{u_n, w_n, r_n}),\\label{eq:mle}\\\\\n",
    "&\\text{subject to} &  & \\sum_{u, w, r} Q_{u, w, r} = 1, \\tag{$\\beta$} \\label{eq:mlesum} \\\\\n",
    "&                  &  & \\sum_{u, w, r} u Q_{u, w, r} = 1, \\tag{$\\gamma$} \\label{eq:mlesumu} \\\\\n",
    "&                  &  & \\sum_{u, w, r} w Q_{u, w, r} = 1, \\tag{$\\tau$} \\label{eq:mlesumw} \\\\\n",
    "\\end{alignat}\n",
    "$$\n",
    "Estimate is $\\hat \\Delta V = \\sum_{u, w, r} (u - w) Q_{u, w, r} r$.\n",
    "\n",
    "Dual (ignoring constants) is $$\n",
    "\\begin{aligned}\n",
    "\\sup_{\\beta,\\gamma,\\tau}& -\\beta - \\gamma -\\tau + \\sum_{n} \\log\\left(\\beta + u_n \\gamma + w_n \\tau\\right)\\; \\text{ s.t. } \\; \\forall u,w,r: \\beta + u \\gamma + w \\tau \\geq 0.\n",
    "\\end{aligned}\n",
    "$$ One dual variable can be eliminated by summing the KKT stationarity conditions and leveraging complementary slackness.  Introducing $\\phi \\succeq 0$ as the (matrix of) dual variables associated with $Q \\succeq 0$: $$\n",
    "\\begin{aligned}\n",
    "\\frac{c_{w_i,r_j}}{q_{w_i,r_j}} &= \\phi_{w_i,r_j} + \\beta + u_i \\gamma + w_i \\tau \\implies N = 0 + \\beta + \\gamma + \\tau, \\\\\n",
    "\\end{aligned}\n",
    "$$ resulting in the 2-D dual $$\n",
    "\\begin{aligned}\n",
    "\\sup_{\\gamma,\\tau} & \\sum_{n} \\log\\left((u_n - 1) \\gamma + (w_n - 1) \\tau + N\\right) \\; \\text{ s.t. } \\;\\forall u,w,r: (u - 1) \\gamma + (w - 1) \\tau + N \\geq 0.\n",
    "\\end{aligned}\n",
    "$$ Unobserved mass can only be assigned at zeros of the dual constraint, but is associated an arbitrary reward.  Primal feasibility dictates $$\n",
    "\\begin{aligned}\n",
    "1 &= \\sum_{(u, w) \\in \\text{zeros}} u q_{(u, w)} + \\sum_n u_n Q_{u_n, w_n, r_n} \\\\\n",
    "1 &= \\sum_{(u, w) \\in \\text{zeros}} w q_{(u, w)} + \\sum_n w_n Q_{u_n, w_n, r_n} \\\\\n",
    "0 &= \\sum_{(u, w) \\in \\text{zeros}} (u - w) q_{(u, w)} + \\sum_n (u_n - w_n) Q_{u_n, w_n, r_n} \\\\\n",
    "\\end{aligned}\n",
    "$$ Therefore the possible difference due to unobserved mass is given by $$\n",
    "\\begin{aligned}\n",
    "\\rho \\sum_{(u, w) \\in \\text{zeros}} (u - w) q_{(u, w)} &= -\\rho \\sum_n (u - w) Q_{u_n, w_n, r_n} \\\\\n",
    "\\end{aligned}\n",
    "$$ where $\\rho$ ranges over $[r_{\\min}, r_{\\max}]$.  The value estimate becomes $$\n",
    "\\begin{aligned}\n",
    "\\hat \\Delta V &= \\sum_n \\frac{(u_n - w_n) (r_n - \\rho)}{(u_n - 1) \\gamma^* + (w_n - 1) \\tau^* + N} \n",
    "\\end{aligned}\n",
    "$$"
   ]
  },
  {
   "cell_type": "markdown",
   "metadata": {},
   "source": [
    "# Tests"
   ]
  },
  {
   "cell_type": "markdown",
   "metadata": {},
   "source": [
    "# Comparison with baselines"
   ]
  },
  {
   "cell_type": "code",
   "execution_count": 2,
   "metadata": {
    "code_folding": [
     0,
     37,
     46
    ],
    "scrolled": true
   },
   "outputs": [
    {
     "name": "stdout",
     "output_type": "stream",
     "text": [
      "****** Constant 0.0 ******\n",
      "****** ClippedDR ******\n",
      "****** SNIPS ******\n",
      "****** MLE ******\n"
     ]
    }
   ],
   "source": [
    "def produceresults(env, method, maxexp=5, numpts=20, ndataperpt=10000):\n",
    "    from math import ceil\n",
    "    import numpy as np\n",
    "    \n",
    "    (umin, umax), (wmin, wmax) = env.range()\n",
    "\n",
    "    for ndata in map(ceil, np.logspace(1, maxexp, numpts)):\n",
    "        estimates=[]\n",
    "        for i in range(1, ndataperpt+1):\n",
    "            (utrue, wtrue, data) = env.sample(ndata)\n",
    "            deltatrue = utrue - wtrue\n",
    "            try:\n",
    "                estimate = None\n",
    "                estimate = method(data=data, umin=umin, umax=umax, wmin=wmin, wmax=wmax)\n",
    "                assert np.isfinite(estimate)\n",
    "            except:\n",
    "                print('truevalue was {}'.format((utrue, wtrue, deltatrue)))\n",
    "                print('data was {}'.format(data))\n",
    "                print('estimate was {}'.format(estimate))\n",
    "                raise\n",
    "                                                \n",
    "            estimates.append(\n",
    "                ( deltatrue,\n",
    "                  deltatrue - estimate,\n",
    "                  (deltatrue - estimate)**2,\n",
    "                )  \n",
    "            )\n",
    "            \n",
    "        yield (ndata,\n",
    "                { \n",
    "                    'bias': np.abs(np.mean([ x[1] for x in estimates])),\n",
    "                    'biasstd': np.std([ x[1] for x in estimates ], ddof=1) / np.sqrt(len(estimates) - 1),\n",
    "                    'mse': np.mean([ x[2] for x in estimates ]),\n",
    "                    'msestd': np.std( [ x[2] for x in estimates ], ddof=1) / np.sqrt(len(estimates) - 1),\n",
    "                },\n",
    "              )\n",
    "        \n",
    "class ClippedDR:\n",
    "    @staticmethod\n",
    "    def estimate(data, baseline=0.0, **kwargs):\n",
    "        import numpy as np\n",
    "        n = sum(c for c, _, _, _ in data)\n",
    "        return baseline if n == 0 else np.clip(sum(c*(u-w)*(r-baseline) for c, u, w, r in data) / n, \n",
    "                                               a_min=-1, \n",
    "                                               a_max=1)\n",
    "    \n",
    "class SNIPS:\n",
    "    @staticmethod\n",
    "    def estimate(data, baseline=0.5, **kwargs):\n",
    "        effnu = sum(c*u for c, u, w, _ in data)\n",
    "        estu = baseline if effnu == 0 else sum(c*u*r for c, u, w, r in data) / effnu\n",
    "        effnw = sum(c*w for c, u, w, _ in data)\n",
    "        estw = baseline if effnw == 0 else sum(c*w*r for c, u, w, r in data) / effnw\n",
    "\n",
    "        return estu - estw\n",
    "\n",
    "from environments.DoubleControlledRangeVariance import DoubleControlledRangeVariance as DCRV\n",
    "import MLE.MLE\n",
    "\n",
    "def getenv(wmax):\n",
    "    usupport = [ 0, 4, 500 ]\n",
    "    wsupport = [ 0, 2, wmax ]\n",
    "    env = DCRV(seed=45, usupport=usupport, expusq=50, wsupport=wsupport, expwsq=100)\n",
    "    return env\n",
    "\n",
    "allres = []\n",
    "for (name, method) in [ ('Constant 0.0', lambda **kwargs: 0.0),\n",
    "                        ('ClippedDR', ClippedDR.estimate),\n",
    "                        ('SNIPS', SNIPS.estimate),\n",
    "                        ('MLE', lambda data, **kwargs: MLE.MLE.estimatediff(datagen=lambda: data, **kwargs)[0]),\n",
    "                      ]:\n",
    "    print('****** {} ******'.format(name))\n",
    "    res = []\n",
    "    wmax = 1000\n",
    "    for zzz in produceresults(getenv(wmax), method, ndataperpt=10000, numpts=14):\n",
    "        res.append(zzz)\n",
    "#         print('{}'.format(zzz), flush=True)\n",
    "    allres.append((name, [(x[0] / wmax, x[1]) for x in res]))\n",
    "    del wmax\n",
    "import pickle\n",
    "pickle.dump( allres, open( \"epsilongreedy_estimatediff_allres.p\", \"wb\" ) )"
   ]
  },
  {
   "cell_type": "code",
   "execution_count": 3,
   "metadata": {
    "code_folding": [
     2
    ]
   },
   "outputs": [
    {
     "data": {
      "image/png": "[encoded data removed]",
      "text/plain": [
       "<Figure size 432x288 with 1 Axes>"
      ]
     },
     "metadata": {
      "needs_background": "light"
     },
     "output_type": "display_data"
    }
   ],
   "source": [
    "%matplotlib inline\n",
    "\n",
    "class FlassPlot:\n",
    "    @staticmethod\n",
    "    def pic(x, y, label):\n",
    "        import matplotlib.pyplot as plt\n",
    "        \n",
    "        plt.loglog(x, y, label=label)\n",
    "        plt.legend()\n",
    "        \n",
    "    @staticmethod\n",
    "    def forpaper():\n",
    "        import matplotlib.pyplot as plt\n",
    "\n",
    "        LEGEND_SIZE = 12\n",
    "        SMALL_SIZE = 16\n",
    "        MEDIUM_SIZE = 22\n",
    "        BIGGER_SIZE = 24\n",
    "\n",
    "        plt.rc('font', size=SMALL_SIZE)          # controls default text sizes\n",
    "        plt.rc('axes', titlesize=SMALL_SIZE)     # fontsize of the axes title\n",
    "        plt.rc('axes', labelsize=MEDIUM_SIZE)    # fontsize of the x and y labels\n",
    "        plt.rc('xtick', labelsize=SMALL_SIZE)    # fontsize of the tick labels\n",
    "        plt.rc('ytick', labelsize=SMALL_SIZE)    # fontsize of the tick labels\n",
    "        plt.rc('legend', fontsize=LEGEND_SIZE)    # legend fontsize\n",
    "        plt.rc('figure', titlesize=BIGGER_SIZE)  # fontsize of the figure title\n",
    "        \n",
    "    @staticmethod\n",
    "    def axeslabel(xlabel, ylabel):\n",
    "        import matplotlib.pyplot as plt\n",
    "        \n",
    "        plt.xlabel(xlabel)\n",
    "        plt.ylabel(ylabel)\n",
    "        \n",
    "    @staticmethod\n",
    "    def title(title):\n",
    "        import matplotlib.pyplot as plt\n",
    "        \n",
    "        plt.title(title)\n",
    "        \n",
    "    @staticmethod\n",
    "    def savefig(filename):\n",
    "        import matplotlib.pyplot as plt\n",
    "        \n",
    "        plt.savefig(filename, bbox_inches='tight')\n",
    "        \n",
    "    @staticmethod\n",
    "    def plt():\n",
    "        import matplotlib.pyplot as plt\n",
    "        \n",
    "        return plt\n",
    "  \n",
    "import pickle\n",
    "allres = pickle.load(open( \"epsilongreedy_estimatediff_allres.p\", \"rb\" ) )\n",
    "\n",
    "renameit = { }\n",
    "FlassPlot.forpaper()\n",
    "for name, res in allres:\n",
    "    x = [ x[0] for x in res ]\n",
    "    y = [ x[1]['mse'] for x in res ]\n",
    "    ylo = [ x[1]['mse'] - 1.96 * x[1]['msestd'] for x in res ]\n",
    "    yhi = [ x[1]['mse'] + 1.96 * x[1]['msestd'] for x in res ]\n",
    "    FlassPlot.plt().loglog([ x[0] for x in res ], [ x[1]['mse'] for x in res ], label=renameit.get(name, name))\n",
    "    FlassPlot.plt().fill_between(x, ylo, yhi, alpha=0.7)\n",
    "FlassPlot.plt().legend()\n",
    "\n",
    "FlassPlot.axeslabel('n / $w_{max}$', 'mse')\n",
    "FlassPlot.plt().savefig(\"epsilongreedydiff_mse.pdf\", bbox_inches='tight')"
   ]
  },
  {
   "cell_type": "code",
   "execution_count": null,
   "metadata": {},
   "outputs": [],
   "source": []
  }
 ],
 "metadata": {
  "kernelspec": {
   "display_name": "Python 3",
   "language": "python",
   "name": "python3"
  },
  "language_info": {
   "codemirror_mode": {
    "name": "ipython",
    "version": 3
   },
   "file_extension": ".py",
   "mimetype": "text/x-python",
   "name": "python",
   "nbconvert_exporter": "python",
   "pygments_lexer": "ipython3",
   "version": "3.7.3"
  }
 },
 "nbformat": 4,
 "nbformat_minor": 2
}
