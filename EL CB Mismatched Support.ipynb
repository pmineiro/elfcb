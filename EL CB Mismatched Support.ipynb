{
 "cells": [
  {
   "cell_type": "markdown",
   "metadata": {},
   "source": [
    "\n",
    "# Mismatched Support\n",
    "\n",
    "## Preliminaries"
   ]
  },
  {
   "cell_type": "markdown",
   "metadata": {},
   "source": [
    "Our goal is to estimate the value $V_\\pi = \\mathbb{E}_{\\substack{(x, r) \\sim D \\\\ a \\sim \\pi}}\\left[ r \\right]$ of a policy $\\pi$ using data collected under policy $\\mu$, where $\\mathbb{E}_{x \\sim D \\\\ a \\sim \\pi}\\left[ 1_{\\mu(a|x) = 0} \\right] > 0$ i.e. $\\mu$ does not cover $\\pi$.  \n",
    "$$\n",
    "\\begin{aligned}\n",
    "V_\\pi &= \\mathbb{E}_{\\substack{(x, r) \\sim D \\\\ a \\sim \\pi}}\\left[ r \\right] \\\\\n",
    "&= \\mathbb{E}_{\\substack{(x, r) \\sim D \\\\ a \\sim \\pi}}\\left[ 1_{\\mu(a|x)>0} r_a \\right] + \\mathbb{E}_{\\substack{(x, r) \\sim D \\\\ a \\sim \\pi}}\\left[ 1_{\\mu(a|x)=0} r_a \\right] \\\\\n",
    "&= \\mathbb{E}_{\\substack{(x, r) \\sim D \\\\ a \\sim \\mu}}\\left[1_{\\mu(a|x)>0} \\frac{\\pi(a|x)}{\\mu(a|x)} r_a \\right] + \\mathbb{E}_{\\substack{(x, r) \\sim D \\\\ a \\sim \\mu}}\\left[ \\mathbb{E}_{a' \\sim \\pi}\\left[ 1_{\\mu(a'|x)=0} r_{a'} | x \\right] \\right].\n",
    "\\end{aligned}\n",
    "$$"
   ]
  },
  {
   "cell_type": "markdown",
   "metadata": {},
   "source": [
    "Choose (unknown) constant $\\rho \\in [r_{\\min}, r_{\\max}]$ such that $$\n",
    "\\begin{aligned}\n",
    "\\rho \\mathbb{E}_{\\substack{(x, r) \\sim D \\\\ a \\sim \\mu}}\\left[ \\mathbb{E}_{a' \\sim \\pi}\\left[ 1_{\\mu(a'|x)=0} | x \\right] \\right] &= \\mathbb{E}_{\\substack{(x, r) \\sim D \\\\ a \\sim \\mu}}\\left[ \\mathbb{E}_{a' \\sim \\pi}\\left[ 1_{\\mu(a'|x)=0} r_{a'} | x \\right] \\right],\n",
    "\\end{aligned}\n",
    "$$ then "
   ]
  },
  {
   "cell_type": "markdown",
   "metadata": {},
   "source": [
    "$$\n",
    "\\begin{aligned}\n",
    "V_\\pi &= \\mathbb{E}_{\\substack{(x, r) \\sim D \\\\ a \\sim \\mu}}\\left[ 1_{\\mu(a|x)>0} \\frac{\\pi(a|x)}{\\mu(a|x)} r_a \\right] + \\rho \\mathbb{E}_{\\substack{(x, r) \\sim D \\\\ a \\sim \\mu}}\\left[ \\mathbb{E}_{a' \\sim \\pi}\\left[ 1_{\\mu(a'|x)=0} | x \\right] \\right], \\\\\n",
    "&\\doteq \\mathbb{E}_{(w, r, z) \\sim Q}\\left[ w r + z \\rho \\right]\n",
    "\\end{aligned}\n",
    "$$ where $w \\doteq 1_{\\mu(a|x)>0} \\frac{\\pi(a|x)}{\\mu(a|x)}$ and $z \\doteq \\mathbb{E}_{a \\sim \\pi}\\left[ 1_{\\mu(a|x)=0} | x \\right]$."
   ]
  },
  {
   "cell_type": "markdown",
   "metadata": {},
   "source": [
    "## Plug-in Estimator"
   ]
  },
  {
   "cell_type": "markdown",
   "metadata": {},
   "source": [
    "A plug-in IPS style estimator would replace actual expectations with empirical ones, $$\n",
    "\\begin{aligned}\n",
    "\\hat{V}(\\pi) &= \\frac{1}{N} \\sum_n w_n r_n + \\rho \\frac{1}{N} \\sum_n z_n \\doteq \\mathbb{E}_N[w r] + \\rho \\mathbb{E}_N[z],\n",
    "\\end{aligned}\n",
    "$$ where $\\rho \\in [r_{\\min}, r_{\\max}]$.  The first term should converge to $\\mathbb{E}_{\\substack{(x, r) \\sim D \\\\ a \\sim \\mu}}\\left[ 1_{\\mu(a|x)>0} \\frac{\\pi(a|x)}{\\mu(a|x)} r_a \\right]$ and the second term should converge to $\\rho \\mathbb{E}_{\\substack{(x, r) \\sim D \\\\ a \\sim \\mu}}\\left[ \\mathbb{E}_{a' \\sim \\pi}\\left[ 1_{\\mu(a'|x)=0} | x \\right] \\right]$.\n",
    "\n",
    "The EL estimator will improve upon this by leveraging constraints on $w$ and $z$, and also comes equipped with a confidence interval, but asymptotically the estimator will essentially be the plug-in IPS estimator."
   ]
  },
  {
   "cell_type": "markdown",
   "metadata": {},
   "source": [
    "## EL Estimator"
   ]
  },
  {
   "cell_type": "markdown",
   "metadata": {},
   "source": [
    "Our primal EL problem to estimate $Q$ is $$\n",
    "\\begin{equation*}\n",
    "\\sup_{Q \\succeq 0}\\left\\{\\mathbb{E}_N\\left[\\log\\left(Q\\right)\\right] \\biggr| \\mathbb{E}_\n",
    "{Q}\\left[w + z\\right] = 1, \\mathbb{E}_\n",
    "{Q}\\left[1\\right] = 1 \\right\\}.\n",
    "\\end{equation*}\n",
    "$$\n",
    "Forming a Lagrangian dual $$\n",
    "\\begin{aligned}\n",
    "&\\sup_{\\beta,\\gamma} \\inf_{Q \\succeq 0} \\left\\{\\beta \\left(-1 + \\mathbb{E}_\n",
    "{Q}\\left[w + z\\right]\\right) + \\gamma \\left(-1 + \\mathbb{E}_\n",
    "{Q}\\left[1\\right]\\right) - \\mathbb{E}_N\\left[\\log\\left(Q\\right)\\right] \\right\\} \\\\\n",
    "&= \\sup_{\\beta,\\gamma} \\inf_{Q \\succeq 0} \\left\\{-\\beta - \\gamma + \\mathbb{E}_\n",
    "{Q}\\left[\\gamma + \\beta(w + z)\\right] - \\mathbb{E}_N\\left[\\log\\left(Q\\right)\\right] \\right\\}. \\\\\n",
    "\\end{aligned}\n",
    "$$ Dual boundedness requires $$\n",
    "\\forall w, z: \\gamma + \\beta (w + z) > 0 \\lor \\left( \\gamma + \\beta (w + z) = 0 \\land \\mathbb{E}_N[1_w 1_z] = 0 \\right).\n",
    "$$\n",
    "The infimum over $Q$ is separable yielding $$\n",
    "\\begin{aligned}\n",
    "Q^*_{w,r,z} &= \\frac{\\mathbb{E}_N[1_w 1_r 1_z]}{\\gamma + \\beta (w + z)} & (\\gamma + \\beta (w + z) > 0)\n",
    "\\end{aligned}\n",
    "$$ otherwise the contribution to the dual is zero.  Substituting and discarding constants yields $$\n",
    "\\begin{equation*}\n",
    "\\sup_{\\beta,\\gamma} \\biggl\\{-\\beta - \\gamma + \\mathbb{E}_N\\left[\\log\\left(\\beta (w_n + z_n) + \\gamma\\right)\\right] \\biggr| \\forall w, z: \\beta (w + z) + \\gamma \\geq 0 \\biggr\\}\n",
    "\\end{equation*}\n",
    "$$\n",
    "\n",
    "\n",
    "Summing the KKT conditions yields $$\n",
    "\\begin{aligned}\n",
    "\\frac{\\mathbb{E}_N[1_w 1_r 1_z]}{Q_{w,r,z}} &= \\beta (w + z) + \\gamma \\\\\n",
    "1 &= \\beta \\mathbb{E}_Q[w + z] + \\gamma \\mathbb{E}_Q[1] \\\\\n",
    "&= \\beta + \\gamma.\n",
    "\\end{aligned}\n",
    "$$ Substituting and discarding constants yields $$\n",
    "\\begin{equation*}\n",
    "\\sup_{\\beta} \\left.\\left\\{\\mathbb{E}_N\\left[\\log\\left(\\beta (w_n + z_n - 1) + 1\\right)\\right] \\right| \\forall w, z: \\beta (w + z - 1) + 1 \\geq 0 \\right\\}.\n",
    "\\end{equation*}\n",
    "$$ The dual constraint can only be strict at an extreme value $(w_{ex}, z_{ex})$ of $(w + z)$, either $(w_{\\max}, 1)$ or $(w_{\\min}, 0)$.  The reward value $\\xi$ at this point is arbitrary. Differentiating the dual at zero indicates $\\text{sign}(\\beta) = \\text{sign}(\\mathbb{E}_N[w_n + z_n] - 1)$.  Thus $$\n",
    "\\begin{equation*}\n",
    "(w_{ex},z_{ex}) = \n",
    "\\begin{cases} \n",
    "(w_\\max, 1) & \\mathbb{E}_N[w + z] < 1 \\\\\n",
    "(w_\\min, 0) & \\text{otherwise} \n",
    "\\end{cases}.\n",
    "\\end{equation*}\n",
    "$$\n",
    "\n",
    "\n",
    "\n",
    "Primal-dual relationship and constraints imply $$\n",
    "\\begin{aligned}\n",
    "\\hat{V}(\\pi) &= \\mathbb{E}_N\\left[\\frac{w r + z \\rho}{\\beta^* (w + z - 1) + 1}\\right] + \\left( w_{ex} \\xi + \\rho z_{ex} \\right) q_{ex} \\\\\n",
    "&=  \\mathbb{E}_N\\left[\\frac{w r + z \\rho}{\\beta^* (w + z - 1) + 1}\\right] + \\xi \\left( w_{ex} + z_{ex} \\right) q_{ex} + \\left(\\rho - \\xi\\right) z_{ex} q_{ex} \\\\\n",
    "&= \\mathbb{E}_N\\left[\\frac{w r + z \\rho}{\\beta^* (w + z - 1) + 1}\\right] + \\xi \\left( 1 -  \\mathbb{E}_N\\left[\\frac{w_n + z_n}{\\beta^* (w_n + z_n - 1) + 1}\\right] \\right) + \\left(\\rho - \\xi\\right) z_{ex} q_{ex} \\\\\n",
    "&= \\xi + \\mathbb{E}_N\\left[\\frac{w (r - \\xi) + z (\\rho - \\xi)}{\\beta^* (w + z - 1) + 1}\\right] + \\left(\\rho - \\xi\\right) z_{ex} q_{ex} \\\\\n",
    "&= \\xi + \\mathbb{E}_N\\left[\\frac{w (r - \\xi) + z (\\rho - \\xi)}{\\beta^* (w + z - 1) + 1}\\right] + \\left(\\rho - \\xi\\right) z_{ex} \\left( 1 -  \\mathbb{E}_N\\left[\\frac{1}{\\beta^* (w + z  - 1) + 1}\\right] \\right) \\\\\n",
    "&= \\xi + \\left(\\rho - \\xi\\right) z_{ex} +  \\mathbb{E}_N\\left[\\frac{w (r - \\xi) + (z - z_{ex}) (\\rho - \\xi)}{\\beta^* (w + z - 1) + 1}\\right] \\\\\n",
    "&= \\begin{cases}\n",
    "\\xi +  \\mathbb{E}_N\\left[\\frac{w (r - \\xi) + z (\\rho - \\xi)}{\\beta^* (w + z - 1) + 1}\\right] &  \\mathbb{E}_N[w + z] \\geq 1 \\\\\n",
    "\\rho +  \\mathbb{E}_N\\left[\\frac{w (r - \\xi) + (z - 1) (\\rho - \\xi)}{\\beta^* (w + z - 1) + 1}\\right] &  \\mathbb{E}_N[w + z] < 1 \\\\\n",
    "\\end{cases}.\n",
    "\\end{aligned}\n",
    "$$\n",
    "\n",
    "As $N \\to \\infty$, $\\beta^* \\to 0$ and $ \\mathbb{E}_N[w + z] \\to 1$, so $$\n",
    "\\hat{V}(\\pi) \\to \n",
    "\\begin{cases}\n",
    "\\mathbb{E}_N[w r] + \\rho  \\mathbb{E}_N[z] & \\mathbb{E}_N[w + z] \\geq 1 \\\\\n",
    "\\mathbb{E}_N[w r] + \\rho \\mathbb{E}_N[z] & \\mathbb{E}_N[w + z] < 1\n",
    "\\end{cases},\n",
    "$$ recovering the plug-in IPS estimator."
   ]
  },
  {
   "cell_type": "markdown",
   "metadata": {},
   "source": [
    "### Special Case: $\\forall n: z_n = 0$."
   ]
  },
  {
   "cell_type": "markdown",
   "metadata": {},
   "source": [
    "Substituting:\n",
    "$$\n",
    "\\begin{aligned}\n",
    "\\hat V(\\pi) &= \n",
    "\\begin{cases}\n",
    "\\xi + \\mathbb{E}_N[\\frac{w (r - \\xi)}{\\beta^* (w - 1) + 1}] & \\mathbb{E}_N[w + z] \\geq 1 \\\\\n",
    "\\rho + \\mathbb{E}_N[\\frac{w (r - \\xi) - (\\rho - \\xi)}{\\beta^* (w - 1) + 1}] & \\mathbb{E}_N[w + z] < 1 \\\\\n",
    "\\end{cases}.\n",
    "\\end{aligned}\n",
    "$$\n",
    "Hard to see what this corresponds to $\\ldots$\n"
   ]
  },
  {
   "cell_type": "markdown",
   "metadata": {},
   "source": [
    "## EL CI Lower Bound"
   ]
  },
  {
   "cell_type": "markdown",
   "metadata": {},
   "source": [
    "In this section assuming $r \\in [0, 1]$ wlog is convenient (for other ranges we can always transform, bound, and inverse transform). \n",
    "\n",
    "The CI lower bound is the solution to $$\n",
    "\\begin{equation*}\n",
    "\\inf_{Q \\succeq 0}\\left\\{\\mathbb{E}_Q\\left[w r + \\rho z\\right] \\biggr| \\mathbb{E}_N\\left[\\log\\left(Q\\right)\\right] \\geq \\phi, \\mathbb{E}_{Q}\\left[w + z\\right] = 1, \\mathbb{E}_{Q}\\left[1\\right] = 1 \\right\\}.\n",
    "\\end{equation*}\n",
    "$$ where $\\phi = \\mathbb{E}_N\\left[\\log\\left(Q^{\\text{(mle)}}\\right)\\right] - \\frac{1}{2 N}\\chi^{2,\\alpha}_{(1)}$ determines the likelihood level set from the confidence level.\n",
    "\n",
    "While $\\rho = 0$ ensures the smallest lower bound, we will maintain $\\rho$ in the derivation and substitute at the end.  This is because for the upper bound, we can merely transform $r \\to 1 - r$ and use $\\rho = 1$ to get the largest upper bound (via the smallest lowest bound on the transformed problem).\n",
    "\n",
    "A Lagrangian dual is $$\n",
    "\\begin{aligned}\n",
    "& \\sup_{\\substack{\\kappa \\geq 0 \\\\ \\beta, \\gamma}} \\inf_{Q \\succeq 0} \\left\\{ \\beta \\left(-1 + \\mathbb{E}_{Q}\\left[w + z\\right] \\right) + \\gamma \\left(-1 + \\mathbb{E}_{Q}\\left[1\\right]\\right) - \\kappa \\left( \\phi - \\mathbb{E}_N\\left[\\log\\left(Q\\right)\\right] \\right) + \\mathbb{E}_Q\\left[w r + \\rho z\\right] \\right\\} \\\\\n",
    "&= \\sup_{\\substack{\\kappa \\geq 0 \\\\ \\beta, \\gamma}} \\inf_{Q \\succeq 0} \\left\\{ -\\beta - \\gamma + \\kappa \\phi + \\mathbb{E}_{Q}\\left[\\beta(w + z) + \\gamma + w r + \\rho z \\right] - \\kappa \\mathbb{E}_N\\left[\\log\\left(Q\\right)\\right] \\right\\}\n",
    "\\end{aligned}\n",
    "$$ Dual boundedness requires $$\n",
    "\\forall w, z, r: \\beta(w + z) + \\gamma + w r + \\rho z > 0 \\lor \\left( \\beta(w + z) + \\gamma + w r + \\rho z = 0 \\land \\kappa \\mathbb{E}_N[1_w 1_r 1_z] = 0 \\right)\n",
    "$$ The infimum over $Q$ is separable yielding $$\n",
    "\\begin{aligned}\n",
    "Q^*_{w,z,r} &= \\kappa \\frac{E_N[1_w 1_r 1_z]}{\\beta(w + z) + \\gamma + w r + \\rho z} & (\\beta(w + z) + \\gamma + w r + \\rho z > 0)\n",
    "\\end{aligned}\n",
    "$$\n",
    "otherwise the contribution to the dual is zero. Substituting yields \n",
    "$$\n",
    "\\begin{aligned}\n",
    "\\sup_{\\substack{\\kappa \\geq 0 \\\\ \\beta, \\gamma}} \\left\\{ -\\beta - \\gamma - \\kappa \\log(\\kappa) + \\kappa \\left(\\phi + \\mathbb{E}_N\\left[\\log \\left( \\beta(w + z) + \\gamma + w r + \\rho z  \\right) \\right] \\right) \\biggr| \\forall w,z,r: \\beta(w + z) + \\gamma + w r + \\rho z \\geq 0 \\right\\}\n",
    "\\end{aligned}\n",
    "$$ \n",
    "Whenever the dual constraint is strict, the optimum can place mass at unobserved $(w_{ex}, r_{ex}, z_{ex})$.  Assuming $r \\geq 0$, the dual constraint can only be strict at $r = 0$ if $w > 0$, and at $w = 0$ we have $w r = 0$.  Ergo unobserved support is constrained to have $w_{ex} r_{ex} = 0$.  Analogously, unobserved support is constrained to have $\\rho z_{ex} = 0$.  \n",
    "\n",
    "The primal-dual relationship and constraints imply $$\n",
    "\\begin{aligned}\n",
    "\\hat{V}_{\\text{lb}}(\\pi) &= \\mathbb{E}_{Q^*}\\left[w r + \\rho z\\right] \\\\\n",
    "&= \\kappa^* \\mathbb{E}_N\\left[\\frac{w r + \\rho z}{\\beta^*(w + z) + \\gamma^* + w r + \\rho z}\\right] + 0 & (w_{ex} r_{ex} + \\rho z_{ex} = 0) \\\\\n",
    "&= \\kappa^* \\mathbb{E}_N\\left[\\frac{w r}{\\beta^*(w + z) + \\gamma^* + w r}\\right] & (\\rho = 0)\n",
    "\\end{aligned}\n",
    "$$ Meanwhile $$\n",
    "\\begin{aligned}\n",
    "\\hat{V}_{\\text{ub}}(\\pi) &= 1 - \\hat{V}_{\\text{lb}}(\\pi)\\biggr|_{r \\leftarrow 1 - r, \\rho = 1} = 1 - \\kappa^* \\mathbb{E}_N\\left[\\frac{w (1 - r) + z}{\\beta^*(w + z) + \\gamma^* + w (1 - r) + z}\\right] \n",
    "\\end{aligned}\n",
    "$$ where the dual variables are different because the dual is solved again with $r \\leftarrow 1 - r$ and $\\rho = 1$.\n",
    "\n",
    "Interestingly, when $\\forall n: z_n = 0$, the lower and upper bounds are the same as in the full overlap setting.\n",
    "\n",
    "Implementation note: assuming the likelihood level constraint is binding (i.e., $\\kappa > 0$) we can eliminate $\\kappa$ analytically in the dual for the bound, $$\n",
    "\\begin{aligned}\n",
    "\\kappa^* &= \\exp\\left(-1 + \\phi + \\mathbb{E}_N\\left[\\log \\left( \\beta(w + z) + \\gamma + w r + \\rho z \\right) \\right]\\right) \\\\\n",
    "\\sup_{\\substack{\\beta, \\gamma}}&\\left\\{ -\\beta - \\gamma + \\exp\\left(-1 + \\phi + \\mathbb{E}_N\\left[\\log \\left( \\beta(w + z) + \\gamma + w r + \\rho z \\right) \\right] \\right) \\biggr| \\forall w,z,r: \\beta(w + z) + \\gamma + w r + \\rho z \\geq 0 \\right\\}.\n",
    "\\end{aligned}\n",
    "$$"
   ]
  },
  {
   "cell_type": "code",
   "execution_count": null,
   "metadata": {},
   "outputs": [],
   "source": []
  }
 ],
 "metadata": {
  "kernelspec": {
   "display_name": "Python 3",
   "language": "python",
   "name": "python3"
  },
  "language_info": {
   "codemirror_mode": {
    "name": "ipython",
    "version": 3
   },
   "file_extension": ".py",
   "mimetype": "text/x-python",
   "name": "python",
   "nbconvert_exporter": "python",
   "pygments_lexer": "ipython3",
   "version": "3.7.4"
  }
 },
 "nbformat": 4,
 "nbformat_minor": 2
}
