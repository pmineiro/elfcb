{
 "cells": [
  {
   "cell_type": "markdown",
   "metadata": {},
   "source": [
    "\n",
    "# Mismatched Support\n",
    "\n",
    "Nikos: First it's good to state some assumptions. Here this is enabled because we can query mu and pi at any context,action pair. In some setups this is not allowed (e.g. someone only logged mu(a) and no longer has access to mu). We assume something we gain something."
   ]
  },
  {
   "cell_type": "markdown",
   "metadata": {},
   "source": [
    "Our goal is to estimate the value $V_\\pi = \\mathbb{E}_{\\substack{(x, r) \\sim D \\\\ a \\sim \\pi}}\\left[ r \\right]$ of a policy $\\pi$ using data collected under policy $\\mu$, where $\\mathbb{E}_{x \\sim D \\\\ a \\sim \\pi}\\left[ 1_{\\mu(a|x) = 0} \\right] > 0$ i.e. $\\mu$ does not cover $\\pi$.  Our estimator is \n",
    "$$\n",
    "\\begin{aligned}\n",
    "V_\\pi &= \\mathbb{E}_{\\substack{(x, r) \\sim D \\\\ a \\sim \\pi}}\\left[ r \\right] \\\\\n",
    "&= \\mathbb{E}_{\\substack{(x, r) \\sim D \\\\ a \\sim \\pi}}\\left[ 1_{\\mu(a|x)>0} r_a \\right] + \\mathbb{E}_{\\substack{(x, r) \\sim D \\\\ a \\sim \\pi}}\\left[ 1_{\\mu(a|x)=0} r_a \\right] \\\\\n",
    "&= \\mathbb{E}_{\\substack{(x, r) \\sim D \\\\ a \\sim \\mu}}\\left[1_{\\mu(a|x)>0} \\frac{\\pi(a|x)}{\\mu(a|x)} r_a \\right] + \\mathbb{E}_{\\substack{(x, r) \\sim D \\\\ a \\sim \\mu}}\\left[ \\mathbb{E}_{a \\sim \\pi}\\left[ 1_{\\mu(a|x)=0} r_a | x \\right] \\right].\n",
    "\\end{aligned}\n",
    "$$"
   ]
  },
  {
   "cell_type": "markdown",
   "metadata": {},
   "source": [
    "Nikos: In the second term a is drawn from pi only, the way it's written it is first draw from mu and then from pi"
   ]
  },
  {
   "cell_type": "markdown",
   "metadata": {},
   "source": [
    "Define (unknown) constant $\\rho$ as $$\n",
    "\\begin{aligned}\n",
    "\\rho &\\doteq \\frac{\\mathbb{E}_{\\substack{(x, r) \\sim D \\\\ a \\sim \\mu}}\\left[ \\mathbb{E}_{a \\sim \\pi}\\left[ 1_{\\mu(a|x)=0} r_a | x \\right] \\right]}{\\mathbb{E}_{\\substack{(x, r) \\sim D \\\\ a \\sim \\mu}}\\left[ \\mathbb{E}_{a \\sim \\pi}\\left[ 1_{\\mu(a|x)=0} | x \\right] \\right]} \\in [r_{\\min}, r_{\\max}],\n",
    "\\end{aligned}\n",
    "$$ then "
   ]
  },
  {
   "cell_type": "markdown",
   "metadata": {},
   "source": [
    "Nikos: There should be two cases for rho, the above one and the other when the denom is 0. Also let's just use r_min = 0 r_max = 1, which I see you already do below."
   ]
  },
  {
   "cell_type": "markdown",
   "metadata": {},
   "source": [
    "$$\n",
    "\\begin{aligned}\n",
    "V_\\pi &= \\mathbb{E}_{\\substack{(x, r) \\sim D \\\\ a \\sim \\mu}}\\left[ 1_{\\mu(a|x)>0} \\frac{\\pi(a|x)}{\\mu(a|x)} r_a \\right] + \\rho \\mathbb{E}_{\\substack{(x, r) \\sim D \\\\ a \\sim \\mu}}\\left[ \\mathbb{E}_{a \\sim \\pi}\\left[ 1_{\\mu(a|x)=0} | x \\right] \\right], \\\\\n",
    "&\\doteq \\mathbb{E}_{(w, r, z) \\sim Q}\\left[ w r + z \\rho \\right]\n",
    "\\end{aligned}\n",
    "$$ where $w \\doteq 1_{\\mu(a|x)>0} \\frac{\\pi(a|x)}{\\mu(a|x)}$ and $z \\doteq \\mathbb{E}_{a \\sim \\pi}\\left[ 1_{\\mu(a|x)=0} | x \\right]$."
   ]
  },
  {
   "cell_type": "markdown",
   "metadata": {},
   "source": [
    "Nikos: You know if you start from max log(NQ_{...}) you don't need to rescale the dual variables at the end. The reason I prefer that is that you don't have to go back and revise the primal dual relationship."
   ]
  },
  {
   "cell_type": "markdown",
   "metadata": {},
   "source": [
    "Our primal EL problem to estimate $Q$ is $$\n",
    "\\begin{equation*}\n",
    "\\sup_{Q \\succeq 0}\\left\\{\\left. \\sum_n \\log\\left(Q_{w_n,r_n,z_n}\\right) \\right| \\mathbb{E}_\n",
    "{Q}\\left[w + z\\right] = 1, \\mathbb{E}_\n",
    "{Q}\\left[1\\right] = 1 \\right\\}.\n",
    "\\end{equation*}\n",
    "$$\n",
    "Forming the Lagrangian dual $$\n",
    "\\begin{aligned}\n",
    "&\\sup_{\\beta,\\gamma} \\inf_{Q \\succeq 0} \\left\\{\\beta \\left(-1 + \\mathbb{E}_\n",
    "{Q}\\left[w + z\\right]\\right) + \\gamma \\left(-1 + \\mathbb{E}_\n",
    "{Q}\\left[1\\right]\\right) - \\sum_n \\log\\left(Q_{w_n,r_n,z_n}\\right) \\right\\} \\\\\n",
    "&= \\sup_{\\beta,\\gamma} \\inf_{Q \\succeq 0} \\left\\{-\\beta - \\gamma + \\mathbb{E}_\n",
    "{Q}\\left[\\gamma + \\beta(w + z)\\right] - \\sum_n \\log\\left(Q_{w_n,r_n,z_n}\\right) \\right\\} \\\\\n",
    "\\end{aligned}\n",
    "$$ Dual boundedness requires $$\n",
    "\\forall w, z: \\left( \\gamma + \\beta (w + z) = 0 \\land 0 = \\sum_n 1_{w=w_n} 1_{r=r_n} 1_{z=z_n} \\right) \\lor \\gamma + \\beta (w + z) > 0.\n",
    "$$\n",
    "The infimum over $Q$ is separable yielding $$\n",
    "\\begin{aligned}\n",
    "Q^*_{w,r,z} &= \\frac{\\sum_n 1_{w=w_n} 1_{r=r_n} 1_{z=z_n}}{\\gamma + \\beta (w + z)} & (\\gamma + \\beta (w + z) > 0)\n",
    "\\end{aligned}\n",
    "$$ otherwise the contribution to the dual is zero.  Substituting and discarding constants yields $$\n",
    "\\begin{equation*}\n",
    "\\sup_{\\beta,\\gamma} \\biggl\\{-\\beta - \\gamma + \\sum_n \\log\\left(\\beta (w_n + z_n) + \\gamma\\right) \\biggr| \\forall w, z: \\beta (w + z) + \\gamma \\geq 0 \\biggr\\}\n",
    "\\end{equation*}\n",
    "$$\n",
    "\n",
    "\n",
    "Summing the KKT conditions yields $$\n",
    "\\begin{aligned}\n",
    "\\frac{\\sum_n 1_{w=w_n} 1_{r=r_n} 1_{z=z_n}}{Q_{w,r,z}} &= \\beta (w + z) + \\gamma \\\\\n",
    "N &= \\beta \\mathbb{E}_Q[w + z] + \\gamma \\mathbb{E}_Q[1] \\\\\n",
    "&= \\beta + \\gamma\n",
    "\\end{aligned}\n",
    "$$ Substituting, changing variables $\\beta \\leftarrow N \\beta$, and discarding constants yields $$\n",
    "\\begin{equation*}\n",
    "\\sup_{\\beta} \\left.\\left\\{\\sum_n \\log\\left(\\beta (w_n + z_n - 1) + 1\\right)\\right| \\forall w, z: \\beta (w + z - 1) + 1 \\geq 0 \\right\\}.\n",
    "\\end{equation*}\n",
    "$$ The dual constraint can only be strict at an extreme value $(w_{ex}, z_{ex})$ of $(w + z)$, either $(w_{\\max}, 1)$ or $(w_{\\min}, 0)$.  The reward value $\\xi$ at this point is arbitrary. \n",
    "Primal-dual relationship and constraints imply $$\n",
    "\\begin{aligned}\n",
    "\\hat{V}(\\pi) &= \\frac{1}{N} \\sum_n \\frac{w_n r_n + z_n \\rho}{\\beta (w_n + z_n - 1) + 1} + \\left( w_{ex} \\xi + \\rho z_{ex} \\right) q_{ex} \\\\\n",
    "&= \\frac{1}{N} \\sum_n \\frac{w_n r_n + z_n \\rho}{\\beta (w_n + z_n - 1) + 1} + \\xi \\left( w_{ex} + z_{ex} \\right) q_{ex} + \\left(\\rho - \\xi\\right) z_{ex} q_{ex} \\\\\n",
    "&= \\frac{1}{N} \\sum_n \\frac{w_n r_n + z_n \\rho}{\\beta (w_n + z_n - 1) + 1} + \\xi \\left( 1 - \\frac{1}{N} \\sum_n \\frac{w_n + z_n}{\\beta (w_n + z_n - 1) + 1} \\right) + \\left(\\rho - \\xi\\right) z_{ex} q_{ex} \\\\\n",
    "&= \\xi + \\frac{1}{N} \\sum_n \\frac{w_n (r_n - \\xi) + z_n (\\rho - \\xi)}{\\beta (w_n + z_n - 1) + 1} + \\left(\\rho - \\xi\\right) z_{ex} q_{ex} \\\\\n",
    "&= \\xi + \\frac{1}{N} \\sum_n \\frac{w_n (r_n - \\xi) + z_n (\\rho - \\xi)}{\\beta (w_n + z_n - 1) + 1} + \\left(\\rho - \\xi\\right) z_{ex} \\left( 1 - \\frac{1}{N} \\sum_n \\frac{1}{\\beta (w_n + z_n - 1) + 1} \\right) \\\\\n",
    "&= \\xi + \\left(\\rho - \\xi\\right) z_{ex} + \\frac{1}{N} \\sum_n \\frac{w_n (r_n - \\xi) + (z_n - z_{ex}) (\\rho - \\xi)}{\\beta (w_n + z_n - 1) + 1}\n",
    "\\end{aligned}\n",
    "$$"
   ]
  },
  {
   "cell_type": "markdown",
   "metadata": {},
   "source": [
    "Nikos: HOT! CIs will be even hotter. And maximizing the CI lowerbound on data where mu(a|x)=0 or 1 in APS will be a killer feature."
   ]
  }
 ],
 "metadata": {
  "kernelspec": {
   "display_name": "Python 3",
   "language": "python",
   "name": "python3"
  },
  "language_info": {
   "codemirror_mode": {
    "name": "ipython",
    "version": 3
   },
   "file_extension": ".py",
   "mimetype": "text/x-python",
   "name": "python",
   "nbconvert_exporter": "python",
   "pygments_lexer": "ipython3",
   "version": "3.6.5"
  }
 },
 "nbformat": 4,
 "nbformat_minor": 2
}
