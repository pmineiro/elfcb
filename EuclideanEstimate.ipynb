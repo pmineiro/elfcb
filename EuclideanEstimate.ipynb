{
 "cells": [
  {
   "cell_type": "markdown",
   "metadata": {},
   "source": [
    "# Derivation"
   ]
  },
  {
   "cell_type": "markdown",
   "metadata": {
    "heading_collapsed": true
   },
   "source": [
    "## Euclidean"
   ]
  },
  {
   "cell_type": "markdown",
   "metadata": {
    "hidden": true
   },
   "source": [
    "Assume no duplicates and reduplicate at the end.\n",
    "$$\n",
    "\\begin{alignat}{2}\n",
    "&\\!\\min_{Q \\succeq 0} &\\qquad& \\sum_{n} \\frac{1}{2} \\left(N Q_{w_n,r_n} - 1\\right)^2,\\label{eq:euc}\\\\\n",
    "&\\text{subject to} &  & \\vec{w}^\\top Q \\vec{1} = 1, \\tag{$\\beta$} \\label{eq:eucsumw} \\\\\n",
    "&                  &  & \\vec{1}^\\top Q \\vec{1} = 1. \\tag{$\\gamma$} \\label{eq:eucsum}\n",
    "\\end{alignat}\n",
    "$$\n",
    "Lagrangian:\n",
    "$$\n",
    "\\begin{aligned}\n",
    "L(Q, \\beta, \\gamma) &= \\beta  (\\vec{w}^\\top Q \\vec{1} -1) + \\gamma (\\vec{1} Q \\vec{1} - 1) + \\sum_{n} \\frac{1}{2} \\left(N Q_{w_n,r_n} - 1\\right)^2. \\\\\n",
    "&= -\\beta - \\gamma + \\sum_{w,r} \\left( \\left( \\beta w + \\gamma \\right) Q_{w,r} + \\frac{1}{2} c_{w,r} \\left(N Q_{w,r} - 1\\right)^2 \\right). \\\\\n",
    "\\frac{\\partial}{\\partial Q_{w,r}} L(Q, \\beta, \\gamma) &= \\beta w + \\gamma + c_{w,r} N \\left(N Q_{w,r} - 1\\right) \\\\\n",
    "\\end{aligned}\n",
    "$$ Dual will be unbounded unless $\\forall w: \\beta w + \\gamma \\geq 0$.  $\\beta w + \\gamma = 0$ can only happen everywhere or at $w = w_{\\min}$ or $w = w_{\\max}$ so we will only potentially place undata on an extreme point.  Continuing $\\ldots$\n",
    "<!---\n",
    "1/2 (n q - 1)^2 + (\\[Gamma] + \\[Beta] w) q \n",
    "Solve[D[%, q] == 0, q] // FullSimplify // Collect[#, n]&\n",
    "%% /. %[[1]] // FullSimplify // Collect[#, n]&\n",
    "--->\n",
    "$$\n",
    "\\begin{aligned}\n",
    "Q^*_{w,r} &= \\max\\left\\{0, \\frac{1}{N} - \\frac{\\beta w + \\gamma}{N^2}\\right\\} & (c_{w,r} = 1). \\\\\n",
    "\\end{aligned}\n",
    "$$ The $\\max\\{0,\\ldots\\}$ is difficult to deal with so ignore that for the purpose of finding (approximate) closed-form expressions for the dual variables.  This is equivalent to relaxing the feasible region to measures which are signed on observed values but unsigned on unobserved values.  Continuing $\\ldots$\n",
    "$$\n",
    "\\begin{aligned}\n",
    "g (\\beta, \\gamma) &= \\inf_{Q \\succeq 0} L(Q, \\beta, \\gamma) \\\\\n",
    "&\\geq -\\beta - \\gamma + \\sum_n \\left( \\left( \\beta w_n + \\gamma \\right) \\left(\\frac{1}{N} - \\frac{\\beta w_n + \\gamma}{N^2} \\right) + \\frac{1}{2} \\left(\\frac{\\beta w_n + \\gamma}{N}\\right)^2 \\right) \\\\\n",
    "&= -\\beta - \\gamma + \\sum_n \\left( \\frac{\\beta w_n + \\gamma}{N} - \\frac{(\\beta w_n + \\gamma)^2}{2 N^2} \\right) \\\\\n",
    "&= -\\beta  + \\sum_n \\left( \\frac{\\beta w_n}{N} - \\frac{(\\beta w_n + \\gamma)^2}{2 N^2} \\right) \\\\\n",
    "\\end{aligned}\n",
    "$$ The unconstrained $\\gamma$ optimum is $\\beta \\frac{1}{N} \\sum_n w_n$ but this is infeasible.  Therefore maximizing $\\gamma$ under the constraint is $$\n",
    "\\gamma^* = \\begin{cases} -\\beta w_{\\min} & \\beta > 0 \\\\ -\\beta w_{\\max} & \\beta \\leq 0 \\end{cases} \\doteq -\\beta w_{\\text{sgn}(\\beta)}\n",
    "$$ Substituting we get $$\n",
    "\\begin{aligned}\n",
    "g\\left(\\beta, \\gamma^*(\\beta)\\right) &= -\\beta  + \\sum_n \\left( \\frac{\\beta w_n}{N} - \\frac{\\beta^2 (w_n - w_{\\text{sgn}(\\beta)})^2}{2 N^2} \\right) \\\\\n",
    "&= -\\beta + \\beta \\sum_n \\frac{w_n}{N} - \\beta^2 \\sum_n \\frac{(w_n - w_{\\text{sgn}(\\beta)})^2}{2 N^2} \\\\\n",
    "\\frac{\\partial}{\\partial \\beta} g\\left(\\beta, \\gamma^*(\\beta)\\right) &= -1 + \\sum_n \\frac{w_n}{N} - \\beta \\sum_n \\frac{(w_n - w_{\\text{sgn}(\\beta)})^2}{N^2} \\\\\n",
    "\\beta^* &= \\frac{-1 + \\frac{1}{N} \\sum_n w_n}{\\sum_n \\frac{(w_n - w_{\\text{sgn}(\\beta)})^2}{N^2}} = \\begin{cases}\n",
    "\\frac{-1 + \\frac{1}{N} \\sum_n w_n}{\\sum_n \\frac{(w_n - w_{\\min})^2}{N^2}} & \\frac{1}{N} \\sum_n w_n > 1 \\\\\n",
    "\\frac{-1 + \\frac{1}{N} \\sum_n w_n}{\\sum_n \\frac{(w_n - w_{\\max})^2}{N^2}} & \\frac{1}{N} \\sum_n w_n \\leq 1 \\\\\n",
    "\\end{cases} \\\\\n",
    "g(\\beta^*, \\gamma^*) &= -\\beta^* \\left(-1 + \\frac{1}{N} \\sum_n w_n\\right) + {\\beta^*}^2 \\sum_n \\frac{(w_n - w_{\\text{sgn}(\\beta)})^2}{2 N^2} \\\\ \n",
    "&= \\frac{\\left(-1 + \\frac{1}{N} \\sum_n w_n\\right)^2}{\\sum_n \\frac{(w_n - w_{\\text{sgn}(\\beta)})^2}{N^2}} - \\frac{1}{2} \\frac{\\left(-1 + \\frac{1}{N} \\sum_n w_n\\right)^2}{\\sum_n \\frac{(w_n - w_{\\text{sgn}(\\beta)})^2}{N^2}} \\\\\n",
    "&= \\frac{1}{2} \\frac{\\left(-1 + \\frac{1}{N} \\sum_n w_n\\right)^2}{\\sum_n \\frac{(w_n - w_{\\text{sgn}(\\beta)})^2}{N^2}}\n",
    "\\end{aligned}\n",
    "$$ \n",
    "So (approximately)\n",
    "$$\n",
    "\\begin{aligned}\n",
    "Q^*_{w,r} &=\n",
    "\\begin{cases}\n",
    "\\max\\left\\{0, \\frac{1}{N} - \\frac{1}{N} \\left(\\frac{-1 + \\frac{1}{N} \\sum_n w_n}{\\sum_n \\frac{(w_n - w_{\\min})^2}{N}}\\right)\\left(w - w_{\\min}\\right)\\right\\} & \\frac{1}{N} \\sum_n w_n > 1 \\\\\n",
    "\\max\\left\\{0, \\frac{1}{N} - \\frac{1}{N} \\left(\\frac{-1 + \\frac{1}{N} \\sum_n w_n}{\\sum_n \\frac{(w_n - w_{\\max})^2}{N}}\\right)\\left(w - w_{\\max}\\right)\\right\\} & \\frac{1}{N} \\sum_n w_n \\leq 1 \\\\\n",
    "\\end{cases}\n",
    "& (c_{w,r} > 0).\n",
    "\\end{aligned}\n",
    "$$ and the value estimate is $$\n",
    "\\begin{aligned}\n",
    "\\hat V(\\pi) &= \n",
    "\\begin{cases}\n",
    "\\frac{1}{N} \\sum_n w_n r_n \\max\\left\\{0, 1 - \\left(\\frac{-1 + \\frac{1}{N} \\sum_n w_n}{\\frac{1}{N} \\sum_n (w_n - w_{\\min})^2}\\right)\\left(w_n - w_{\\min}\\right)\\right\\} & \\frac{1}{N} \\sum_n w_n > 1 \\\\\n",
    "\\frac{1}{N} \\sum_n w_n r_n \\max\\left\\{0, 1 - \\left(\\frac{-1 + \\frac{1}{N} \\sum_n w_n}{\\frac{1}{N} \\sum_n (w_n - w_{\\max})^2}\\right)\\left(w_n - w_{\\max}\\right)\\right\\} & \\frac{1}{N} \\sum_n w_n \\leq 1 \\\\\n",
    "\\end{cases}\n",
    "\\end{aligned}\n",
    "$$ Note both denominators can be computed given $\\frac{1}{N} \\sum_n w_n$ and $\\frac{1}{N} \\sum_n w_n^2$."
   ]
  },
  {
   "cell_type": "markdown",
   "metadata": {
    "heading_collapsed": true
   },
   "source": [
    "## Cressie-Read"
   ]
  },
  {
   "cell_type": "markdown",
   "metadata": {
    "hidden": true
   },
   "source": [
    "Assume no duplicates and re-duplicate at the end. $$\n",
    "\\begin{alignat}{2}\n",
    "&\\!\\min_{Q \\succeq 0} &\\qquad& \\frac{2}{\\lambda (1 + \\lambda)} \\sum_n \\left( \\left( N Q_{w_n, r_n} \\right)^{-\\lambda} - 1 \\right),\\label{eq:cr}\\\\\n",
    "&\\text{subject to} &  & \\vec{w}^\\top Q \\vec{1} = 1, \\tag{$\\beta$} \\label{eq:crsumw} \\\\\n",
    "&                  &  & \\vec{1}^\\top Q \\vec{1} = 1. \\tag{$\\gamma$} \\label{eq:crsum}\n",
    "\\end{alignat}\n",
    "$$  Dual is $$\n",
    "\\begin{aligned}\n",
    "L (\\beta, \\gamma, Q) &= \\beta \\left(\\vec{w}^\\top Q \\vec{1} - 1\\right) + \\gamma \\left( \\vec{1}^\\top Q \\vec{1} - 1 \\right) + \\frac{2}{\\lambda (1 + \\lambda)} \\sum_n \\left( \\left( N Q_{w_n, r_n} \\right)^{-\\lambda} - 1 \\right) \\\\\n",
    "&= -\\beta - \\gamma + \\sum_{w,r} \\left( \\left( \\gamma + \\beta w \\right) Q_{w,r} + c_{w,r} \\frac{2}{\\lambda (1 + \\lambda)} \\left( \\left( N Q_{w, r} \\right)^{-\\lambda} - 1 \\right) \\right) & \\left( c_{w,r} \\in \\{ 0, 1 \\} \\right).\n",
    "\\end{aligned} \n",
    "$$ This is unbounded unless $\\forall w: \\gamma + \\beta w \\geq 0$. \n",
    "<!--- \n",
    "(\\[Gamma] + \\[Beta] w) Q + (2/(\\[Lambda] (\\[Lambda] + 1)))((N Q)^(-\\[Lambda]) - 1)\n",
    "D[%, Q] == 0\n",
    "Solve[%, Q]\n",
    "%% /. %[[1]] // Simplify // PowerExpand // Simplify\n",
    "(%%%% /. %%[[1]] // Simplify // PowerExpand // FullSimplify // Apart) /. -1 + 1/(1 + \\[Lambda]) -> -\\[Lambda] / (1 + \\[Lambda]) /. 1 - 1 / (1 + \\[Lambda]) -> \\[Lambda] / (1 + \\[Lambda])\n",
    "--->\n",
    "Continuing $\\ldots$ $$\n",
    "\\begin{aligned}\n",
    "0 &= \\gamma + \\beta w - \\frac{2 N}{1 + \\lambda} \\left( N Q_{w, r} \\right)^{-1 - \\lambda} & (c_{w,r} = 1) \\\\\n",
    "\\left( N Q_{w, r} \\right)^{-1 - \\lambda} &= \\frac{1 + \\lambda}{2 N} \\left( \\gamma + \\beta w \\right) \\\\\n",
    "Q_{w,r} &= \\frac{1}{N} \\left( \\frac{1 + \\lambda}{2 N} \\left( \\gamma + \\beta w \\right) \\right)^{\\frac{-1}{1 + \\lambda}}  & \\left( \\lambda > -1 \\right) \\\\\n",
    "\\end{aligned}\n",
    "$$ Substitute $\\gamma \\leftarrow \\gamma \\frac{1 + \\lambda}{2 N}$ and $\\beta \\leftarrow \\beta \\frac{1 + \\lambda}{2 N}$ to get\n",
    "$$\n",
    "\\begin{aligned}\n",
    "Q^*_{w, r} &= \\frac{1}{N} \\left(\\gamma + \\beta w\\right)^{\\frac{-1}{1 + \\lambda}} & \\left( c_{w,r} = 1, \\lambda > -1 \\right) \\\\\n",
    "g (\\beta, \\gamma) &= -\\frac{2 N}{1 + \\lambda} \\beta -\\frac{2 N}{1 + \\lambda} \\gamma - \\frac{2 N}{\\lambda (1 + \\lambda)} + \\sum_n \\left( \\frac{2}{1 + \\lambda} \\left(\\gamma + \\beta w_n\\right) N Q_{w_n, r_n} + \\frac{2}{\\lambda (1 + \\lambda)} N Q_{w_n, r_n} \\left( \\gamma + \\beta w_n \\right) \\right) \\\\\n",
    "&= -\\frac{2 N}{1 + \\lambda} \\beta -\\frac{2 N}{1 + \\lambda} \\gamma - \\frac{2 N}{\\lambda (1 + \\lambda)} + \\frac{2}{\\lambda} \\sum_n \\left(\\gamma + \\beta w_n\\right) N Q_{w_n, r_n} \\\\\n",
    "&= -\\frac{2 N}{1 + \\lambda} \\beta -\\frac{2 N}{1 + \\lambda} \\gamma  - \\frac{2 N}{\\lambda (1 + \\lambda)} + \\frac{2}{\\lambda}  \\sum_n \\left(\\gamma + \\beta w_n\\right)^{\\frac{\\lambda}{1 + \\lambda}} \\\\\n",
    "&= - \\frac{2 N}{\\lambda (1 + \\lambda)} + \\frac{2 N}{(1 + \\lambda)} \\left( - \\beta - \\gamma +  \\frac{1 + \\lambda}{\\lambda N} \\sum_n \\left(\\gamma + \\beta w_n\\right)^{\\frac{\\lambda}{1 + \\lambda}} \\right) \\\\\n",
    "&= \\frac{2 N}{(1 + \\lambda)} \\left( -\\frac{1}{\\lambda} - \\beta - \\gamma +  \\frac{1 + \\lambda}{\\lambda N} \\sum_n \\left(\\gamma + \\beta w_n\\right)^{\\frac{\\lambda}{1 + \\lambda}} \\right) \\\\\n",
    "&= \\frac{2 N}{(1 + \\lambda)} \\left( 1 - \\beta - \\gamma +  \\frac{1}{N} \\sum_n \\frac{1 + \\lambda}{\\lambda} \\left( \\left(\\gamma + \\beta w_n\\right)^{\\frac{\\lambda}{1 + \\lambda}} - 1 \\right) \\right) \\\\\n",
    "\\end{aligned}\n",
    "$$\n",
    "Just hit it with a generic convex solver $\\ldots$"
   ]
  },
  {
   "cell_type": "markdown",
   "metadata": {},
   "source": [
    "## CR(-2)"
   ]
  },
  {
   "cell_type": "markdown",
   "metadata": {},
   "source": [
    "Assume no duplicates and re-duplicate at the end. $$\n",
    "\\begin{alignat}{2}\n",
    "&\\!\\min_{Q \\succeq 0} &\\qquad&  \\sum_n \\left( \\left( N Q_{w_n, r_n} \\right)^{2} - 1 \\right),\\label{eq:crminus2}\\\\\n",
    "&\\text{subject to} &  & \\vec{w}^\\top Q \\vec{1} = 1, \\tag{$\\beta$} \\label{eq:crminus2sumw} \\\\\n",
    "&                  &  & \\vec{1}^\\top Q \\vec{1} = 1. \\tag{$\\gamma$} \\label{eq:crminus2sum}\n",
    "\\end{alignat}\n",
    "$$ Dual is $$\n",
    "\\begin{aligned}\n",
    "L (\\beta, \\gamma, Q) &= \\beta \\left(\\vec{w}^\\top Q \\vec{1} - 1\\right) + \\gamma \\left( \\vec{1}^\\top Q \\vec{1} - 1 \\right) +  \\sum_n \\left( \\left( N Q_{w_n, r_n} \\right)^2 - 1 \\right) \\\\\n",
    "&= -\\beta - \\gamma + \\sum_{w,r} \\left( \\left( \\gamma + \\beta w \\right) Q_{w,r} + c_{w,r} \\left( \\left( N Q_{w, r} \\right)^2 - 1 \\right) \\right) & \\left( c_{w,r} \\in \\{ 0, 1 \\} \\right).\n",
    "\\end{aligned} \n",
    "$$ This is unbounded unless $\\forall w: \\gamma + \\beta w \\geq 0$. Continuing $\\ldots$ $$\n",
    "\\begin{aligned}\n",
    "0 &= \\gamma + \\beta w + 2 N^2 Q_{w, r} & (c_{w,r} = 1) \\\\\n",
    "Q_{w,r} &= -\\frac{\\gamma + \\beta w}{2 N^2} \\\\\n",
    "\\end{aligned}\n",
    "$$ does not compute $\\ldots$ $Q = 0$ (?!) $\\ldots$ or $\\gamma + \\beta w = 0$ everywhere and the distribution is completely off the observed data."
   ]
  },
  {
   "cell_type": "markdown",
   "metadata": {},
   "source": [
    "### All on the Sample"
   ]
  },
  {
   "cell_type": "markdown",
   "metadata": {},
   "source": [
    "If we assign all mass to the sample then we can drop the dual variable constraint and we get $$\n",
    "\\begin{aligned}\n",
    "Q_{w,r} &= \\max\\left\\{ 0, -\\frac{\\gamma + \\beta w}{2 N^2} \\right\\} \\\\\n",
    "g(\\beta, \\gamma) &= -\\beta -\\gamma - N - \\sum_n 1_{\\gamma + \\beta w_n \\leq 0} \\frac{(\\gamma + \\beta w_n)^2}{4 N^2}\n",
    "\\end{aligned}\n",
    "$$ If $\\forall n: w_n < 1$ then we can choose $(\\gamma = -\\beta - \\epsilon)$ with $\\epsilon > 0, \\beta > 0$ s.t. $(-\\epsilon + \\beta (w_n - 1) < 0)$ in which case $g(\\beta, \\gamma) = \\epsilon - N$ which is unbounded.  In this case the primal is infeasible. Similarly if $\\forall n: w_n > 1$ then we can choose $(\\gamma = -\\beta - \\epsilon)$ with $\\epsilon > 0, \\beta < 0$ s.t. $(-\\epsilon + \\beta (w_n - 1) < 0)$ in which case $g(\\beta, \\gamma) = \\epsilon - N$, again unbounded due to primal infeasiblity.\n",
    "\n",
    "We can ensure primal feasibility by creating undata.  Inspired by the Euclidean solution we can place an undata point at $$\n",
    "\\begin{aligned}\n",
    "w_{\\text{fake}} &= \\begin{cases} w_{\\min} & \\frac{1}{N} \\sum_n w_n \\geq 1 \\\\ w_{\\max} & \\text{otherwise} \\end{cases}, \\\\\n",
    "Q_{w,r} &= \\max\\left\\{ 0, -\\frac{\\gamma + \\beta w}{2 (N+1)^2} \\right\\} \\\\\n",
    "g(\\beta, \\gamma) &= -\\beta -\\gamma - (N + 1) - 1_{\\gamma + \\beta w_{\\text{fake}} \\leq 0} \\frac{(\\gamma + \\beta w_{\\text{fake}})^2}{4 (N+1)^2}  - \\sum_n 1_{\\gamma + \\beta w_n \\leq 0} \\frac{(\\gamma + \\beta w_n)^2}{4 (N+1)^2}\n",
    "\\end{aligned}\n",
    "$$"
   ]
  },
  {
   "cell_type": "markdown",
   "metadata": {},
   "source": [
    "Allow signed measures and drop indicators.\n",
    "$$\n",
    "\\begin{aligned}\n",
    "g(\\beta, \\gamma) &=  -\\beta -\\gamma - (N + 1) - \\frac{(\\gamma + \\beta w_{\\text{fake}})^2}{4 (N+1)^2}  - \\sum_n \\frac{(\\gamma + \\beta w_n)^2}{4 (N+1)^2} \\\\\n",
    "\\end{aligned}\n",
    "$$ Substitute $\\gamma \\leftarrow 2(N+1) \\gamma$, $\\beta \\leftarrow 2(N+1) \\beta$ to get $$\n",
    "\\begin{aligned}\n",
    "Q_{w,r} &= -\\frac{\\gamma + \\beta w}{N+1}  \\\\\n",
    "g(\\beta, \\gamma) &= -2(N+1) \\beta -2(N+1) \\gamma -(N+1) -\\gamma^2 - 2 \\beta \\gamma w_{\\text{fake}} - \\beta^2 w_{\\text{fake}}^2 - \\sum_n \\left( \\gamma^2 + 2 \\beta \\gamma w_n + \\beta^2 w_n^2 \\right) \\\\\n",
    "&= -(N+1) -2(N+1) \\beta -2(N+1) \\gamma - (N+1) \\gamma^2 - 2 \\beta \\gamma \\left(w_{\\text{fake}} + \\sum_n w_n\\right) - \\beta^2 \\left(w_{\\text{fake}}^2 + \\sum_n w_n^2 \\right) \\\\\n",
    "&= (N+1) \\left( -1 -2 \\vec{1}^\\top \\left(\\begin{matrix} \\gamma \\\\ \\beta \\end{matrix} \\right) - \\left(\\begin{matrix} \\gamma \\\\ \\beta \\end{matrix} \\right)^\\top \\left(\\begin{matrix} 1 & \\frac{w_{\\text{fake}} + \\sum_n w_n}{N + 1}  \\\\ \\frac{w_{\\text{fake}} + \\sum_n w_n}{N + 1} & \\frac{w_{\\text{fake}}^2 + \\sum_n w_n^2}{N + 1}  \\end{matrix} \\right) \\left(\\begin{matrix} \\gamma \\\\ \\beta \\end{matrix} \\right) \\right) \\\\\n",
    "&\\doteq (N+1) \\left(-1 - 2 b^\\top x - x^\\top C x \\right) \\\\\n",
    "x^* &= -C^{-1} b \\\\\n",
    "\\left(\\begin{matrix} \\gamma^* \\\\ \\beta^* \\end{matrix} \\right) &^= -\\left(\\begin{matrix} 1 & \\frac{w_{\\text{fake}} + \\sum_n w_n}{N + 1}  \\\\ \\frac{w_{\\text{fake}} + \\sum_n w_n}{N + 1} & \\frac{w_{\\text{fake}}^2 + \\sum_n w_n^2}{N + 1}  \\end{matrix} \\right)^{-1} \\vec{1} \\doteq -\\left(\\begin{matrix} 1 & a  \\\\ a & b  \\end{matrix} \\right)^{-1} \\vec{1} = \\left(\\begin{matrix} \\frac{b - a}{a^2 - b} \\\\ \\frac{1 - a}{a^2 - b} \\end{matrix} \\right) \\\\\n",
    "g(\\beta^*, \\gamma^*) &= (N+1) \\left(-1 - 2 b^\\top x^* - {x^*}^\\top C x^* \\right) = (N+1) \\left(-1 - b^\\top x^*\\right) = (N+1) \\frac{(a-1)^2}{b - a^2} \\\\\n",
    "\\hat{V}(\\pi) &= \\rho \\left(- \\frac{\\gamma^* w_{\\text{fake}}}{N+1} - \\frac{\\beta^* w_{\\text{fake}}^2}{N+1}\\right) - \\gamma^* \\frac{1}{N+1} \\sum_n w_n r_n - \\beta^* \\frac{1}{N+1} \\sum_n w_n^2 r_n\n",
    "\\end{aligned}\n",
    "$$ Note $a^2 - b < 0$ always.\n",
    "\n",
    "<!---\n",
    "Dot[Inverse[{{ -1, -a }, { -a, -b }}], {1,1}] // FullSimplify\n",
    "-1 - Dot[{1, 1}, %] // FullSimplify\n",
    "--->"
   ]
  },
  {
   "cell_type": "markdown",
   "metadata": {},
   "source": [
    "#### Limiting behaviour, $w_{\\max} \\to \\infty$"
   ]
  },
  {
   "cell_type": "code",
   "execution_count": null,
   "metadata": {},
   "outputs": [],
   "source": [
    "a = (wfake + sumw) / (1 + n)\n",
    "b = (wfake^2 + sumwsq) / (1 + n)\n",
    "Series[(b - a) / (a^2 - b), { wfake, Infinity, 0 }] // FullSimplify\n",
    "Series[(1 - a) / (a^2 - b) , { wfake, Infinity, 0 }] // FullSimplify\n",
    "Series[(n + 1) (a - 1)^2 / (b - a^2), { wfake, Infinity, 0 }] // FullSimplify"
   ]
  },
  {
   "cell_type": "markdown",
   "metadata": {},
   "source": [
    "When $\\sum_n w_n < N$, $w_{\\text{fake}} = w_{\\max}$ and \n",
    "$$\n",
    "\\begin{aligned}\n",
    "\\lim_{w_{\\max} \\to \\infty} \\gamma^* &\\to -\\frac{1+N}{N} \\\\\n",
    "\\lim_{w_{\\max} \\to \\infty} \\beta^* &\\to 0 \\\\\n",
    "\\lim_{w_{\\max} \\to \\infty} Q_{w_n,r_n} &\\to \\frac{1}{N} \\\\\n",
    "\\lim_{w_{\\max} \\to \\infty} g^* &\\to 1 + \\frac{1}{N} \\\\\n",
    "\\lim_{w_{\\max} \\to \\infty} \\hat{V}(\\pi) &\\to \\rho + \\frac{1}{N} \\sum_n w_n (r_n - \\rho)\n",
    "\\end{aligned}\n",
    "$$ where $\\rho \\in [r_{\\min}, r_{\\max}]$ is arbitrary and the value estimate is an interval."
   ]
  },
  {
   "cell_type": "markdown",
   "metadata": {},
   "source": [
    "# Censorship Test"
   ]
  },
  {
   "cell_type": "code",
   "execution_count": 9,
   "metadata": {},
   "outputs": [
    {
     "name": "stdout",
     "output_type": "stream",
     "text": [
      "(0.11301610332178359,\n",
      " {'betastar': -0.06704427927956763,\n",
      "  'gammastar': -0.946924249525326,\n",
      "  'num': 159912,\n",
      "  'primal': 2233.749346776939,\n",
      "  'qfunc': <function CrMinusTwo.estimate.<locals>.<lambda> at 0x7f180085cea0>,\n",
      "  'vmax': 0.14441137807364607,\n",
      "  'vmin': 0.0816208285699211})\n",
      "(0.17668496465472647,\n",
      " {'betastar': -0.00023617992703621606,\n",
      "  'gammastar': -0.9997988195999459,\n",
      "  'num': 159912,\n",
      "  'primal': 5.5968793582735925,\n",
      "  'qfunc': <function CrMinusTwo.estimate.<locals>.<lambda> at 0x7f180085cbf8>,\n",
      "  'vmax': 0.28179205694747633,\n",
      "  'vmin': 0.07157787236197657})\n",
      "(0.17690341952824049,\n",
      " {'betastar': 0,\n",
      "  'gammastar': -1.0000062534393916,\n",
      "  'num': 159912,\n",
      "  'primal': 1.0000062534393916,\n",
      "  'qfunc': <function CrMinusTwo.estimate.<locals>.<lambda> at 0x7f1801098e18>,\n",
      "  'vmax': 0.2822630030660612,\n",
      "  'vmin': 0.07154383599041972})\n",
      "(0.10266472838717605,\n",
      " {'betastar': -0.03020598841636191,\n",
      "  'gammastar': -0.9725184204617138,\n",
      "  'num': 268338,\n",
      "  'primal': 731.0651539339725,\n",
      "  'qfunc': <function CrMinusTwo.estimate.<locals>.<lambda> at 0x7f1801098d90>,\n",
      "  'vmax': 0.11942403356429698,\n",
      "  'vmin': 0.08590542321005512})\n",
      "(0.1571336812991383,\n",
      " {'betastar': -0.00014490064142073258,\n",
      "  'gammastar': -0.9998629738615115,\n",
      "  'num': 268338,\n",
      "  'primal': 2.113036242330378,\n",
      "  'qfunc': <function CrMinusTwo.estimate.<locals>.<lambda> at 0x7f18007ff048>,\n",
      "  'vmax': 0.23835520935031485,\n",
      "  'vmin': 0.07591215324796176})\n",
      "(0.15737398702486102,\n",
      " {'betastar': 0,\n",
      "  'gammastar': -1.0000037266432633,\n",
      "  'num': 268338,\n",
      "  'primal': 1.0000037266432633,\n",
      "  'qfunc': <function CrMinusTwo.estimate.<locals>.<lambda> at 0x7f18007ff158>,\n",
      "  'vmax': 0.23887970196045022,\n",
      "  'vmin': 0.07586827208927183})\n"
     ]
    }
   ],
   "source": [
    "data, wmin, wmax, censored = None, None, None, None\n",
    "for data, wmin, wmax, censored in [\n",
    "    # some data where exogenous censorship is discarded\n",
    "   ([ (c, w, r) for c, w, r in [ \n",
    "      (86, -59.999996, 0.0), (44884, -1.0497237, 0.0), (16331, -1.0447762, 0.0), (31257, -1.0344828, 0.0), \n",
    "      (15868, -1.0, 0.0), (41332, 0.0, 0.0), (1958, 0.0, 1.0), (17763, 1.0, 0.0), (1339, 1.0, 1.0), \n",
    "      (30726, 1.0344828, 0.0), (3867, 1.0344828, 1.0), (2034, 1.0447762, 1.0), (16728, 1.0447762, 0.0), \n",
    "      (40629, 1.0497237, 0.0), (3445, 1.0497237, 1.0), (85, 59.999996, 0.0), (6, 59.999996, 1.0), \n",
    "     ]\n",
    "     if w >= 0\n",
    "    ], 0, 380, False),\n",
    "    # same data where exogenous censorship is modeled\n",
    "   ([ (c, -w if w < 0 else w, None if w < 0 else r) for c, w, r in [ \n",
    "      (86, -59.999996, 0.0), (44884, -1.0497237, 0.0), (16331, -1.0447762, 0.0), (31257, -1.0344828, 0.0), \n",
    "      (15868, -1.0, 0.0), (41332, 0.0, 0.0), (1958, 0.0, 1.0), (17763, 1.0, 0.0), (1339, 1.0, 1.0), \n",
    "      (30726, 1.0344828, 0.0), (3867, 1.0344828, 1.0), (2034, 1.0447762, 1.0), (16728, 1.0447762, 0.0), \n",
    "      (40629, 1.0497237, 0.0), (3445, 1.0497237, 1.0), (85, 59.999996, 0.0), (6, 59.999996, 1.0), \n",
    "     ]], 0, 380, True),\n",
    "]:\n",
    "    from MLE.MLE import CrMinusTwo\n",
    "    from math import inf\n",
    "\n",
    "    from pprint import pformat\n",
    "    print(pformat(CrMinusTwo.estimate(datagen=lambda: data, \n",
    "                                      wmin=wmin, wmax=wmax, rmin=0, rmax=1, raiseonerr=True, censored=censored)))\n",
    "    print(pformat(CrMinusTwo.estimate(datagen=lambda: data, \n",
    "                                      wmin=wmin, wmax=10000, rmin=0, rmax=1, raiseonerr=True, censored=censored)))\n",
    "    print(pformat(CrMinusTwo.estimate(datagen=lambda: data, \n",
    "                                      wmin=wmin, wmax=inf, rmin=0, rmax=1, raiseonerr=True, censored=censored)))\n",
    "    \n",
    "del data, wmin, wmax, censored"
   ]
  },
  {
   "cell_type": "markdown",
   "metadata": {},
   "source": [
    "# Comparison with baselines"
   ]
  },
  {
   "cell_type": "code",
   "execution_count": 4,
   "metadata": {
    "code_folding": [
     0
    ]
   },
   "outputs": [
    {
     "name": "stdout",
     "output_type": "stream",
     "text": [
      "****** Euclidean ******\n",
      "****** CrMinus2 ******\n",
      "****** TwoThirds ******\n",
      "****** MLE ******\n"
     ]
    }
   ],
   "source": [
    "def produceresults(env, method, minexp=1, maxexp=5, numpts=20, ndataperpt=10000):\n",
    "    from math import ceil\n",
    "    import numpy as np\n",
    "    \n",
    "    wmin, wmax = env.range()\n",
    "\n",
    "    for ndata in map(ceil, np.logspace(minexp, maxexp, numpts)):\n",
    "        estimates=[]\n",
    "        for i in range(1, ndataperpt+1):\n",
    "            (truevalue, data) = env.sample(ndata)\n",
    "            try:\n",
    "                estimate = None\n",
    "                estimate = method(data=data, wmin=wmin, wmax=wmax)\n",
    "                assert np.isfinite(estimate)\n",
    "            except:\n",
    "                print('truevalue was {}'.format(truevalue))\n",
    "                print('data was {}'.format(data))\n",
    "                print('estimate was {}'.format(estimate))\n",
    "                raise\n",
    "            \n",
    "            essden = sum(c*w*w for (c, w, _) in data)\n",
    "            essnum = sum(c*w for (c, w, _) in data)\n",
    "            ess = 0 if essden == 0 else essnum*(essnum/essden)\n",
    "                                                \n",
    "            estimates.append(\n",
    "                ( truevalue,\n",
    "                  truevalue - estimate,\n",
    "                  (truevalue - estimate)**2,\n",
    "                 ess\n",
    "                )  \n",
    "            )\n",
    "            \n",
    "        yield (ndata,\n",
    "                { \n",
    "                    'bias': np.abs(np.mean([ x[1] for x in estimates])),\n",
    "                    'biasstd': np.std([ x[1] for x in estimates ], ddof=1) / np.sqrt(len(estimates) - 1),\n",
    "                    'mse': np.mean([ x[2] for x in estimates ]),\n",
    "                    'msestd': np.std( [ x[2] for x in estimates ], ddof=1) / np.sqrt(len(estimates) - 1),\n",
    "                    'ess': np.mean([ x[3] for x in estimates ]),\n",
    "                    'essstd': np.std([ x[3] for x in estimates ], ddof=1) / np.sqrt(len(estimates) - 1),\n",
    "                },\n",
    "              )\n",
    "\n",
    "class ClippedDR:\n",
    "    @staticmethod\n",
    "    def estimate(data, baseline=0.5, **kwargs):\n",
    "        import numpy as np\n",
    "        n = sum(c for c, _, _ in data)\n",
    "        return baseline if n == 0 else np.clip(sum(c*w*(r-baseline)+c*baseline for c, w, r in data) / n, a_min=0, a_max=1)\n",
    "    \n",
    "class SNIPS:\n",
    "    @staticmethod\n",
    "    def estimate(data, **kwargs):\n",
    "        effn = sum(c*w for c, w, _ in data)\n",
    "        return 0.5 if effn == 0 else sum(c*w*r for c, w, r in data) / effn\n",
    "\n",
    "from importlib import reload\n",
    "import environments.ControlledRangeVariance\n",
    "import MLE.MLE\n",
    "\n",
    "reload(environments.ControlledRangeVariance)\n",
    "reload(MLE.MLE)\n",
    "\n",
    "from MLE.MLE import Euclidean as Euclidean\n",
    "from MLE.MLE import CressieRead as CressieRead\n",
    "from MLE.MLE import CrMinusTwo as CrMinusTwo\n",
    "\n",
    "def getenv():\n",
    "    wsupport = [ 0, 2, 1000 ]\n",
    "    env = environments.ControlledRangeVariance.ControlledRangeVariance(seed=45, wsupport=wsupport, expwsq=100)\n",
    "    return env, env.getpw(), env.range(), env.expectedwsq()\n",
    "\n",
    "allres = []\n",
    "for (name, method) in [ \n",
    "#                         ('Constant 0.5', lambda **kwargs: 0.5),\n",
    "#                         ('ClippedDR', ClippedDR.estimate),\n",
    "#                         ('SNIPS', SNIPS.estimate),\n",
    "                        ('Euclidean', lambda data, **kwargs: Euclidean.estimate(datagen=lambda: data, **kwargs)[0]),\n",
    "                        ('CrMinus2', lambda data, **kwargs: CrMinusTwo.estimate(datagen=lambda: data, **kwargs)[0]),\n",
    "                        ('TwoThirds', lambda data, **kwargs: CressieRead.estimate(datagen=lambda: data, **kwargs, lam=2/3)[0]),\n",
    "#                         ('MinusOneHalf', lambda data, **kwargs: CressieRead.estimate(datagen=lambda: data, **kwargs, lam=-1/2)[0]),\n",
    "#                         ('One', lambda data, **kwargs: CressieRead.estimate(datagen=lambda: data, **kwargs, lam=1)[0]),\n",
    "#                         ('Almost MLE', lambda data, **kwargs: CressieRead.estimate(datagen=lambda: data, **kwargs, lam=1e-3)[0]),\n",
    "                        ('MLE', lambda data, **kwargs: MLE.MLE.estimate(datagen=lambda: data, **kwargs)[0]),\n",
    "#                         ('Lambda Zero', lambda data, **kwargs: CressieRead.estimate(datagen=lambda: data, **kwargs, lam=0)[0]),\n",
    "                      ]:\n",
    "    print('****** {} ******'.format(name))\n",
    "    res = []\n",
    "    for zzz in produceresults(getenv()[0], method, numpts=14, ndataperpt=1000):\n",
    "        res.append(zzz)\n",
    "#         print('{}'.format(zzz), flush=True)\n",
    "    wmax = getenv()[2][1]\n",
    "    allres.append((name, [(x[0] / wmax, x[1]) for x in res]))\n",
    "    del wmax\n",
    "import pickle\n",
    "pickle.dump( allres, open( \"epsilongreedy_estimate_euclideanres.p\", \"wb\" ) )"
   ]
  },
  {
   "cell_type": "code",
   "execution_count": 5,
   "metadata": {
    "code_folding": [
     2
    ]
   },
   "outputs": [
    {
     "data": {
      "image/png": "[encoded data removed]",
      "text/plain": [
       "<Figure size 432x288 with 1 Axes>"
      ]
     },
     "metadata": {
      "needs_background": "light"
     },
     "output_type": "display_data"
    }
   ],
   "source": [
    "%matplotlib inline\n",
    "\n",
    "class FlassPlot:\n",
    "    @staticmethod\n",
    "    def pic(x, y, label):\n",
    "        import matplotlib.pyplot as plt\n",
    "        \n",
    "        plt.loglog(x, y, label=label)\n",
    "        plt.legend()\n",
    "        \n",
    "    @staticmethod\n",
    "    def forpaper():\n",
    "        import matplotlib.pyplot as plt\n",
    "\n",
    "        LEGEND_SIZE = 12\n",
    "        SMALL_SIZE = 16\n",
    "        MEDIUM_SIZE = 22\n",
    "        BIGGER_SIZE = 24\n",
    "\n",
    "        plt.rc('font', size=SMALL_SIZE)          # controls default text sizes\n",
    "        plt.rc('axes', titlesize=SMALL_SIZE)     # fontsize of the axes title\n",
    "        plt.rc('axes', labelsize=MEDIUM_SIZE)    # fontsize of the x and y labels\n",
    "        plt.rc('xtick', labelsize=SMALL_SIZE)    # fontsize of the tick labels\n",
    "        plt.rc('ytick', labelsize=SMALL_SIZE)    # fontsize of the tick labels\n",
    "        plt.rc('legend', fontsize=LEGEND_SIZE)    # legend fontsize\n",
    "        plt.rc('figure', titlesize=BIGGER_SIZE)  # fontsize of the figure title\n",
    "        \n",
    "    @staticmethod\n",
    "    def axeslabel(xlabel, ylabel):\n",
    "        import matplotlib.pyplot as plt\n",
    "        \n",
    "        plt.xlabel(xlabel)\n",
    "        plt.ylabel(ylabel)\n",
    "        \n",
    "    @staticmethod\n",
    "    def title(title):\n",
    "        import matplotlib.pyplot as plt\n",
    "        \n",
    "        plt.title(title)\n",
    "        \n",
    "    @staticmethod\n",
    "    def savefig(filename):\n",
    "        import matplotlib.pyplot as plt\n",
    "        \n",
    "        plt.savefig(filename, bbox_inches='tight')\n",
    "        \n",
    "    @staticmethod\n",
    "    def plt():\n",
    "        import matplotlib.pyplot as plt\n",
    "        \n",
    "        return plt\n",
    "  \n",
    "import pickle\n",
    "allres = pickle.load(open( \"epsilongreedy_estimate_euclideanres.p\", \"rb\" ) )\n",
    "\n",
    "renameit = { }\n",
    "skip = { 'Almost MLE': 1, 'MinusOneHalf': 1, 'One': 1, 'Lambda Zero': 1, }\n",
    "FlassPlot.forpaper()\n",
    "for name, res in allres:\n",
    "    if name in skip:\n",
    "        continue\n",
    "    x = [ x[0] for x in res ]\n",
    "    y = [ x[1]['mse'] for x in res ]\n",
    "    ylo = [ x[1]['mse'] - 1.96 * x[1]['msestd'] for x in res ]\n",
    "    yhi = [ x[1]['mse'] + 1.96 * x[1]['msestd'] for x in res ]\n",
    "    FlassPlot.plt().loglog([ x[0] for x in res ], [ x[1]['mse'] for x in res ], label=renameit.get(name, name))\n",
    "    FlassPlot.plt().fill_between(x, ylo, yhi, alpha=0.7)\n",
    "FlassPlot.plt().legend()\n",
    "\n",
    "FlassPlot.axeslabel('n / $w_{max}$', 'mse')\n",
    "#FlassPlot.plt().savefig(\"epsilongreedy_mse.pdf\", bbox_inches='tight')"
   ]
  },
  {
   "cell_type": "code",
   "execution_count": null,
   "metadata": {},
   "outputs": [],
   "source": []
  }
 ],
 "metadata": {
  "kernelspec": {
   "display_name": "Python 3",
   "language": "python",
   "name": "python3"
  },
  "language_info": {
   "codemirror_mode": {
    "name": "ipython",
    "version": 3
   },
   "file_extension": ".py",
   "mimetype": "text/x-python",
   "name": "python",
   "nbconvert_exporter": "python",
   "pygments_lexer": "ipython3",
   "version": "3.7.3"
  }
 },
 "nbformat": 4,
 "nbformat_minor": 2
}
